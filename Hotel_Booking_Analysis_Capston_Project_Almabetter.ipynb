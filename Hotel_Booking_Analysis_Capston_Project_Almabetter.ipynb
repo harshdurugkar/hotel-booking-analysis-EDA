{
  "cells": [
    {
      "cell_type": "markdown",
      "metadata": {
        "id": "view-in-github",
        "colab_type": "text"
      },
      "source": [
        "<a href=\"https://colab.research.google.com/github/harshdurugkar/hotel-booking-analysis-EDA/blob/main/Hotel_Booking_Analysis_Capston_Project_Almabetter.ipynb\" target=\"_parent\"><img src=\"https://colab.research.google.com/assets/colab-badge.svg\" alt=\"Open In Colab\"/></a>"
      ]
    },
    {
      "cell_type": "markdown",
      "metadata": {
        "id": "hLpbsEL32RJy"
      },
      "source": [
        "# <center> `Hotel Booking Analysis` </center>\n",
        "# <center> `Team Capston Project - Almabetter School` </center>"
      ]
    },
    {
      "cell_type": "markdown",
      "metadata": {
        "id": "apOcQ8nk2RJ4"
      },
      "source": [
        "This dataset contain information of hotel booking, We will perform exploratory data analysis to get insight from the data.  \n",
        "### We will try to answer the following Questions\n",
        "1. How Many Booking Were Cancelled?\n",
        "2. What is the booking ratio between Resort Hotel and City Hotel?\n",
        "3. What is the percentage of booking for each year?\n",
        "4. Which is the most busy month for hotel?\n",
        "5. From which country most guest come?\n",
        "6. How Long People Stay in the hotel?\n",
        "7. Which was the most booked accommodation type (Single, Couple, Family)?\n",
        "8. How many guests repeated in hotel ?\n",
        "9. Types of Customers ?\n",
        "10. Meal Plan Of Customers.\n",
        "11. Which agent makes highest no. of bookings ?\n",
        "12. Which is the most preferred room type by the customers ?\n",
        "13. Which Hotel type has the highest ADR ?\n",
        "\n"
      ]
    },
    {
      "cell_type": "markdown",
      "source": [
        "![hotel_booking.jpeg](data:image/jpeg;base64,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)"
      ],
      "metadata": {
        "id": "sZcH-h2jicHl"
      }
    },
    {
      "cell_type": "markdown",
      "metadata": {
        "id": "OglTm31R2RJ8"
      },
      "source": [
        "Let's Start\n",
        "<hr>"
      ]
    },
    {
      "cell_type": "markdown",
      "metadata": {
        "id": "xGG5nqOj2RJ9"
      },
      "source": [
        "# Packages Import"
      ]
    },
    {
      "cell_type": "code",
      "execution_count": null,
      "metadata": {
        "colab": {
          "base_uri": "https://localhost:8080/"
        },
        "id": "52H7SmlV2RJ-",
        "outputId": "81682622-fbd5-401c-bc26-e537a841d9ae"
      },
      "outputs": [
        {
          "name": "stdout",
          "output_type": "stream",
          "text": [
            "Looking in indexes: https://pypi.org/simple, https://us-python.pkg.dev/colab-wheels/public/simple/\n",
            "Collecting pycountry\n",
            "  Downloading pycountry-22.3.5.tar.gz (10.1 MB)\n",
            "\u001b[K     |████████████████████████████████| 10.1 MB 4.6 MB/s \n",
            "\u001b[?25h  Installing build dependencies ... \u001b[?25l\u001b[?25hdone\n",
            "  Getting requirements to build wheel ... \u001b[?25l\u001b[?25hdone\n",
            "    Preparing wheel metadata ... \u001b[?25l\u001b[?25hdone\n",
            "Requirement already satisfied: setuptools in /usr/local/lib/python3.7/dist-packages (from pycountry) (57.4.0)\n",
            "Building wheels for collected packages: pycountry\n",
            "  Building wheel for pycountry (PEP 517) ... \u001b[?25l\u001b[?25hdone\n",
            "  Created wheel for pycountry: filename=pycountry-22.3.5-py2.py3-none-any.whl size=10681845 sha256=f3d30e0d38b280b85c6b6b051826050cfaed33e336f03f0023a7e79b1ad0f4c5\n",
            "  Stored in directory: /root/.cache/pip/wheels/0e/06/e8/7ee176e95ea9a8a8c3b3afcb1869f20adbd42413d4611c6eb4\n",
            "Successfully built pycountry\n",
            "Installing collected packages: pycountry\n",
            "Successfully installed pycountry-22.3.5\n"
          ]
        }
      ],
      "source": [
        "!pip install pycountry\n",
        "\n",
        "import numpy as np\n",
        "import pandas as pd\n",
        "\n",
        "import matplotlib.pyplot as plt\n",
        "import seaborn as sns \n",
        "import pycountry as pc\n",
        "\n",
        "pd.options.display.max_columns = None"
      ]
    },
    {
      "cell_type": "code",
      "execution_count": null,
      "metadata": {
        "colab": {
          "base_uri": "https://localhost:8080/"
        },
        "id": "r5eWPwM92RKB",
        "outputId": "6d3ff9ee-61a6-484f-b5bd-9c2d866227c6"
      },
      "outputs": [
        {
          "name": "stdout",
          "output_type": "stream",
          "text": [
            "Mounted at /content/drive\n"
          ]
        }
      ],
      "source": [
        "## Importing Data From Google Drive\n",
        "from google.colab import drive\n",
        "drive.mount('/content/drive')\n",
        "working_directory = '/content/drive/MyDrive/Colab Notebooks/Hotel Bookings.csv'\n",
        "hotel_data = pd.read_csv(working_directory)\n",
        "hotel_data = pd.read_csv('/content/drive/MyDrive/Colab Notebooks/Hotel Bookings.csv')"
      ]
    },
    {
      "cell_type": "code",
      "execution_count": null,
      "metadata": {
        "colab": {
          "base_uri": "https://localhost:8080/",
          "height": 357
        },
        "id": "pLsvRhuO2RKC",
        "outputId": "841c739e-f714-4e57-d437-cb4f76651f6d",
        "scrolled": true
      },
      "outputs": [
        {
          "data": {
            "text/html": [
              "\n",
              "  <div id=\"df-5d8aa987-1ef8-430f-af40-8dea9430d291\">\n",
              "    <div class=\"colab-df-container\">\n",
              "      <div>\n",
              "<style scoped>\n",
              "    .dataframe tbody tr th:only-of-type {\n",
              "        vertical-align: middle;\n",
              "    }\n",
              "\n",
              "    .dataframe tbody tr th {\n",
              "        vertical-align: top;\n",
              "    }\n",
              "\n",
              "    .dataframe thead th {\n",
              "        text-align: right;\n",
              "    }\n",
              "</style>\n",
              "<table border=\"1\" class=\"dataframe\">\n",
              "  <thead>\n",
              "    <tr style=\"text-align: right;\">\n",
              "      <th></th>\n",
              "      <th>hotel</th>\n",
              "      <th>is_canceled</th>\n",
              "      <th>lead_time</th>\n",
              "      <th>arrival_date_year</th>\n",
              "      <th>arrival_date_month</th>\n",
              "      <th>arrival_date_week_number</th>\n",
              "      <th>arrival_date_day_of_month</th>\n",
              "      <th>stays_in_weekend_nights</th>\n",
              "      <th>stays_in_week_nights</th>\n",
              "      <th>adults</th>\n",
              "      <th>children</th>\n",
              "      <th>babies</th>\n",
              "      <th>meal</th>\n",
              "      <th>country</th>\n",
              "      <th>market_segment</th>\n",
              "      <th>distribution_channel</th>\n",
              "      <th>is_repeated_guest</th>\n",
              "      <th>previous_cancellations</th>\n",
              "      <th>previous_bookings_not_canceled</th>\n",
              "      <th>reserved_room_type</th>\n",
              "      <th>assigned_room_type</th>\n",
              "      <th>booking_changes</th>\n",
              "      <th>deposit_type</th>\n",
              "      <th>agent</th>\n",
              "      <th>company</th>\n",
              "      <th>days_in_waiting_list</th>\n",
              "      <th>customer_type</th>\n",
              "      <th>adr</th>\n",
              "      <th>required_car_parking_spaces</th>\n",
              "      <th>total_of_special_requests</th>\n",
              "      <th>reservation_status</th>\n",
              "      <th>reservation_status_date</th>\n",
              "    </tr>\n",
              "  </thead>\n",
              "  <tbody>\n",
              "    <tr>\n",
              "      <th>0</th>\n",
              "      <td>Resort Hotel</td>\n",
              "      <td>0</td>\n",
              "      <td>342</td>\n",
              "      <td>2015</td>\n",
              "      <td>July</td>\n",
              "      <td>27</td>\n",
              "      <td>1</td>\n",
              "      <td>0</td>\n",
              "      <td>0</td>\n",
              "      <td>2</td>\n",
              "      <td>0.0</td>\n",
              "      <td>0</td>\n",
              "      <td>BB</td>\n",
              "      <td>PRT</td>\n",
              "      <td>Direct</td>\n",
              "      <td>Direct</td>\n",
              "      <td>0</td>\n",
              "      <td>0</td>\n",
              "      <td>0</td>\n",
              "      <td>C</td>\n",
              "      <td>C</td>\n",
              "      <td>3</td>\n",
              "      <td>No Deposit</td>\n",
              "      <td>NaN</td>\n",
              "      <td>NaN</td>\n",
              "      <td>0</td>\n",
              "      <td>Transient</td>\n",
              "      <td>0.0</td>\n",
              "      <td>0</td>\n",
              "      <td>0</td>\n",
              "      <td>Check-Out</td>\n",
              "      <td>2015-07-01</td>\n",
              "    </tr>\n",
              "    <tr>\n",
              "      <th>1</th>\n",
              "      <td>Resort Hotel</td>\n",
              "      <td>0</td>\n",
              "      <td>737</td>\n",
              "      <td>2015</td>\n",
              "      <td>July</td>\n",
              "      <td>27</td>\n",
              "      <td>1</td>\n",
              "      <td>0</td>\n",
              "      <td>0</td>\n",
              "      <td>2</td>\n",
              "      <td>0.0</td>\n",
              "      <td>0</td>\n",
              "      <td>BB</td>\n",
              "      <td>PRT</td>\n",
              "      <td>Direct</td>\n",
              "      <td>Direct</td>\n",
              "      <td>0</td>\n",
              "      <td>0</td>\n",
              "      <td>0</td>\n",
              "      <td>C</td>\n",
              "      <td>C</td>\n",
              "      <td>4</td>\n",
              "      <td>No Deposit</td>\n",
              "      <td>NaN</td>\n",
              "      <td>NaN</td>\n",
              "      <td>0</td>\n",
              "      <td>Transient</td>\n",
              "      <td>0.0</td>\n",
              "      <td>0</td>\n",
              "      <td>0</td>\n",
              "      <td>Check-Out</td>\n",
              "      <td>2015-07-01</td>\n",
              "    </tr>\n",
              "    <tr>\n",
              "      <th>2</th>\n",
              "      <td>Resort Hotel</td>\n",
              "      <td>0</td>\n",
              "      <td>7</td>\n",
              "      <td>2015</td>\n",
              "      <td>July</td>\n",
              "      <td>27</td>\n",
              "      <td>1</td>\n",
              "      <td>0</td>\n",
              "      <td>1</td>\n",
              "      <td>1</td>\n",
              "      <td>0.0</td>\n",
              "      <td>0</td>\n",
              "      <td>BB</td>\n",
              "      <td>GBR</td>\n",
              "      <td>Direct</td>\n",
              "      <td>Direct</td>\n",
              "      <td>0</td>\n",
              "      <td>0</td>\n",
              "      <td>0</td>\n",
              "      <td>A</td>\n",
              "      <td>C</td>\n",
              "      <td>0</td>\n",
              "      <td>No Deposit</td>\n",
              "      <td>NaN</td>\n",
              "      <td>NaN</td>\n",
              "      <td>0</td>\n",
              "      <td>Transient</td>\n",
              "      <td>75.0</td>\n",
              "      <td>0</td>\n",
              "      <td>0</td>\n",
              "      <td>Check-Out</td>\n",
              "      <td>2015-07-02</td>\n",
              "    </tr>\n",
              "    <tr>\n",
              "      <th>3</th>\n",
              "      <td>Resort Hotel</td>\n",
              "      <td>0</td>\n",
              "      <td>13</td>\n",
              "      <td>2015</td>\n",
              "      <td>July</td>\n",
              "      <td>27</td>\n",
              "      <td>1</td>\n",
              "      <td>0</td>\n",
              "      <td>1</td>\n",
              "      <td>1</td>\n",
              "      <td>0.0</td>\n",
              "      <td>0</td>\n",
              "      <td>BB</td>\n",
              "      <td>GBR</td>\n",
              "      <td>Corporate</td>\n",
              "      <td>Corporate</td>\n",
              "      <td>0</td>\n",
              "      <td>0</td>\n",
              "      <td>0</td>\n",
              "      <td>A</td>\n",
              "      <td>A</td>\n",
              "      <td>0</td>\n",
              "      <td>No Deposit</td>\n",
              "      <td>304.0</td>\n",
              "      <td>NaN</td>\n",
              "      <td>0</td>\n",
              "      <td>Transient</td>\n",
              "      <td>75.0</td>\n",
              "      <td>0</td>\n",
              "      <td>0</td>\n",
              "      <td>Check-Out</td>\n",
              "      <td>2015-07-02</td>\n",
              "    </tr>\n",
              "    <tr>\n",
              "      <th>4</th>\n",
              "      <td>Resort Hotel</td>\n",
              "      <td>0</td>\n",
              "      <td>14</td>\n",
              "      <td>2015</td>\n",
              "      <td>July</td>\n",
              "      <td>27</td>\n",
              "      <td>1</td>\n",
              "      <td>0</td>\n",
              "      <td>2</td>\n",
              "      <td>2</td>\n",
              "      <td>0.0</td>\n",
              "      <td>0</td>\n",
              "      <td>BB</td>\n",
              "      <td>GBR</td>\n",
              "      <td>Online TA</td>\n",
              "      <td>TA/TO</td>\n",
              "      <td>0</td>\n",
              "      <td>0</td>\n",
              "      <td>0</td>\n",
              "      <td>A</td>\n",
              "      <td>A</td>\n",
              "      <td>0</td>\n",
              "      <td>No Deposit</td>\n",
              "      <td>240.0</td>\n",
              "      <td>NaN</td>\n",
              "      <td>0</td>\n",
              "      <td>Transient</td>\n",
              "      <td>98.0</td>\n",
              "      <td>0</td>\n",
              "      <td>1</td>\n",
              "      <td>Check-Out</td>\n",
              "      <td>2015-07-03</td>\n",
              "    </tr>\n",
              "  </tbody>\n",
              "</table>\n",
              "</div>\n",
              "      <button class=\"colab-df-convert\" onclick=\"convertToInteractive('df-5d8aa987-1ef8-430f-af40-8dea9430d291')\"\n",
              "              title=\"Convert this dataframe to an interactive table.\"\n",
              "              style=\"display:none;\">\n",
              "        \n",
              "  <svg xmlns=\"http://www.w3.org/2000/svg\" height=\"24px\"viewBox=\"0 0 24 24\"\n",
              "       width=\"24px\">\n",
              "    <path d=\"M0 0h24v24H0V0z\" fill=\"none\"/>\n",
              "    <path d=\"M18.56 5.44l.94 2.06.94-2.06 2.06-.94-2.06-.94-.94-2.06-.94 2.06-2.06.94zm-11 1L8.5 8.5l.94-2.06 2.06-.94-2.06-.94L8.5 2.5l-.94 2.06-2.06.94zm10 10l.94 2.06.94-2.06 2.06-.94-2.06-.94-.94-2.06-.94 2.06-2.06.94z\"/><path d=\"M17.41 7.96l-1.37-1.37c-.4-.4-.92-.59-1.43-.59-.52 0-1.04.2-1.43.59L10.3 9.45l-7.72 7.72c-.78.78-.78 2.05 0 2.83L4 21.41c.39.39.9.59 1.41.59.51 0 1.02-.2 1.41-.59l7.78-7.78 2.81-2.81c.8-.78.8-2.07 0-2.86zM5.41 20L4 18.59l7.72-7.72 1.47 1.35L5.41 20z\"/>\n",
              "  </svg>\n",
              "      </button>\n",
              "      \n",
              "  <style>\n",
              "    .colab-df-container {\n",
              "      display:flex;\n",
              "      flex-wrap:wrap;\n",
              "      gap: 12px;\n",
              "    }\n",
              "\n",
              "    .colab-df-convert {\n",
              "      background-color: #E8F0FE;\n",
              "      border: none;\n",
              "      border-radius: 50%;\n",
              "      cursor: pointer;\n",
              "      display: none;\n",
              "      fill: #1967D2;\n",
              "      height: 32px;\n",
              "      padding: 0 0 0 0;\n",
              "      width: 32px;\n",
              "    }\n",
              "\n",
              "    .colab-df-convert:hover {\n",
              "      background-color: #E2EBFA;\n",
              "      box-shadow: 0px 1px 2px rgba(60, 64, 67, 0.3), 0px 1px 3px 1px rgba(60, 64, 67, 0.15);\n",
              "      fill: #174EA6;\n",
              "    }\n",
              "\n",
              "    [theme=dark] .colab-df-convert {\n",
              "      background-color: #3B4455;\n",
              "      fill: #D2E3FC;\n",
              "    }\n",
              "\n",
              "    [theme=dark] .colab-df-convert:hover {\n",
              "      background-color: #434B5C;\n",
              "      box-shadow: 0px 1px 3px 1px rgba(0, 0, 0, 0.15);\n",
              "      filter: drop-shadow(0px 1px 2px rgba(0, 0, 0, 0.3));\n",
              "      fill: #FFFFFF;\n",
              "    }\n",
              "  </style>\n",
              "\n",
              "      <script>\n",
              "        const buttonEl =\n",
              "          document.querySelector('#df-5d8aa987-1ef8-430f-af40-8dea9430d291 button.colab-df-convert');\n",
              "        buttonEl.style.display =\n",
              "          google.colab.kernel.accessAllowed ? 'block' : 'none';\n",
              "\n",
              "        async function convertToInteractive(key) {\n",
              "          const element = document.querySelector('#df-5d8aa987-1ef8-430f-af40-8dea9430d291');\n",
              "          const dataTable =\n",
              "            await google.colab.kernel.invokeFunction('convertToInteractive',\n",
              "                                                     [key], {});\n",
              "          if (!dataTable) return;\n",
              "\n",
              "          const docLinkHtml = 'Like what you see? Visit the ' +\n",
              "            '<a target=\"_blank\" href=https://colab.research.google.com/notebooks/data_table.ipynb>data table notebook</a>'\n",
              "            + ' to learn more about interactive tables.';\n",
              "          element.innerHTML = '';\n",
              "          dataTable['output_type'] = 'display_data';\n",
              "          await google.colab.output.renderOutput(dataTable, element);\n",
              "          const docLink = document.createElement('div');\n",
              "          docLink.innerHTML = docLinkHtml;\n",
              "          element.appendChild(docLink);\n",
              "        }\n",
              "      </script>\n",
              "    </div>\n",
              "  </div>\n",
              "  "
            ],
            "text/plain": [
              "          hotel  is_canceled  lead_time  arrival_date_year arrival_date_month  \\\n",
              "0  Resort Hotel            0        342               2015               July   \n",
              "1  Resort Hotel            0        737               2015               July   \n",
              "2  Resort Hotel            0          7               2015               July   \n",
              "3  Resort Hotel            0         13               2015               July   \n",
              "4  Resort Hotel            0         14               2015               July   \n",
              "\n",
              "   arrival_date_week_number  arrival_date_day_of_month  \\\n",
              "0                        27                          1   \n",
              "1                        27                          1   \n",
              "2                        27                          1   \n",
              "3                        27                          1   \n",
              "4                        27                          1   \n",
              "\n",
              "   stays_in_weekend_nights  stays_in_week_nights  adults  children  babies  \\\n",
              "0                        0                     0       2       0.0       0   \n",
              "1                        0                     0       2       0.0       0   \n",
              "2                        0                     1       1       0.0       0   \n",
              "3                        0                     1       1       0.0       0   \n",
              "4                        0                     2       2       0.0       0   \n",
              "\n",
              "  meal country market_segment distribution_channel  is_repeated_guest  \\\n",
              "0   BB     PRT         Direct               Direct                  0   \n",
              "1   BB     PRT         Direct               Direct                  0   \n",
              "2   BB     GBR         Direct               Direct                  0   \n",
              "3   BB     GBR      Corporate            Corporate                  0   \n",
              "4   BB     GBR      Online TA                TA/TO                  0   \n",
              "\n",
              "   previous_cancellations  previous_bookings_not_canceled reserved_room_type  \\\n",
              "0                       0                               0                  C   \n",
              "1                       0                               0                  C   \n",
              "2                       0                               0                  A   \n",
              "3                       0                               0                  A   \n",
              "4                       0                               0                  A   \n",
              "\n",
              "  assigned_room_type  booking_changes deposit_type  agent  company  \\\n",
              "0                  C                3   No Deposit    NaN      NaN   \n",
              "1                  C                4   No Deposit    NaN      NaN   \n",
              "2                  C                0   No Deposit    NaN      NaN   \n",
              "3                  A                0   No Deposit  304.0      NaN   \n",
              "4                  A                0   No Deposit  240.0      NaN   \n",
              "\n",
              "   days_in_waiting_list customer_type   adr  required_car_parking_spaces  \\\n",
              "0                     0     Transient   0.0                            0   \n",
              "1                     0     Transient   0.0                            0   \n",
              "2                     0     Transient  75.0                            0   \n",
              "3                     0     Transient  75.0                            0   \n",
              "4                     0     Transient  98.0                            0   \n",
              "\n",
              "   total_of_special_requests reservation_status reservation_status_date  \n",
              "0                          0          Check-Out              2015-07-01  \n",
              "1                          0          Check-Out              2015-07-01  \n",
              "2                          0          Check-Out              2015-07-02  \n",
              "3                          0          Check-Out              2015-07-02  \n",
              "4                          1          Check-Out              2015-07-03  "
            ]
          },
          "execution_count": 4,
          "metadata": {},
          "output_type": "execute_result"
        }
      ],
      "source": [
        "## Checking the first 5 rows of Data\n",
        "hotel_data.head()"
      ]
    },
    {
      "cell_type": "markdown",
      "metadata": {
        "id": "zOFuuo1P2RKE"
      },
      "source": [
        "<hr>"
      ]
    },
    {
      "cell_type": "code",
      "execution_count": null,
      "metadata": {
        "colab": {
          "base_uri": "https://localhost:8080/"
        },
        "id": "gVi9mud8dESU",
        "outputId": "86bb2073-be42-457b-ff90-4d04641a004f"
      },
      "outputs": [
        {
          "name": "stdout",
          "output_type": "stream",
          "text": [
            " There are 119390 number of rows and 32 number of columns.\n"
          ]
        }
      ],
      "source": [
        "# Check the shape Numbers of rows and coumns in CSV File\n",
        "print(f' There are {hotel_data.shape[0]} number of rows and {hotel_data.shape[1]} number of columns.')"
      ]
    },
    {
      "cell_type": "code",
      "execution_count": null,
      "metadata": {
        "colab": {
          "base_uri": "https://localhost:8080/",
          "height": 364
        },
        "id": "9oz05vD1d1gW",
        "outputId": "0a51354c-2d9a-4ac1-9a5c-1ac18b5ac541"
      },
      "outputs": [
        {
          "data": {
            "text/html": [
              "\n",
              "  <div id=\"df-c104cb13-2961-4843-92f0-a00ad9f7a34e\">\n",
              "    <div class=\"colab-df-container\">\n",
              "      <div>\n",
              "<style scoped>\n",
              "    .dataframe tbody tr th:only-of-type {\n",
              "        vertical-align: middle;\n",
              "    }\n",
              "\n",
              "    .dataframe tbody tr th {\n",
              "        vertical-align: top;\n",
              "    }\n",
              "\n",
              "    .dataframe thead th {\n",
              "        text-align: right;\n",
              "    }\n",
              "</style>\n",
              "<table border=\"1\" class=\"dataframe\">\n",
              "  <thead>\n",
              "    <tr style=\"text-align: right;\">\n",
              "      <th></th>\n",
              "      <th>is_canceled</th>\n",
              "      <th>lead_time</th>\n",
              "      <th>arrival_date_year</th>\n",
              "      <th>arrival_date_week_number</th>\n",
              "      <th>arrival_date_day_of_month</th>\n",
              "      <th>stays_in_weekend_nights</th>\n",
              "      <th>stays_in_week_nights</th>\n",
              "      <th>adults</th>\n",
              "      <th>children</th>\n",
              "      <th>babies</th>\n",
              "      <th>is_repeated_guest</th>\n",
              "      <th>previous_cancellations</th>\n",
              "      <th>previous_bookings_not_canceled</th>\n",
              "      <th>booking_changes</th>\n",
              "      <th>agent</th>\n",
              "      <th>company</th>\n",
              "      <th>days_in_waiting_list</th>\n",
              "      <th>adr</th>\n",
              "      <th>required_car_parking_spaces</th>\n",
              "      <th>total_of_special_requests</th>\n",
              "    </tr>\n",
              "  </thead>\n",
              "  <tbody>\n",
              "    <tr>\n",
              "      <th>count</th>\n",
              "      <td>119390.000000</td>\n",
              "      <td>119390.000000</td>\n",
              "      <td>119390.000000</td>\n",
              "      <td>119390.000000</td>\n",
              "      <td>119390.000000</td>\n",
              "      <td>119390.000000</td>\n",
              "      <td>119390.000000</td>\n",
              "      <td>119390.000000</td>\n",
              "      <td>119386.000000</td>\n",
              "      <td>119390.000000</td>\n",
              "      <td>119390.000000</td>\n",
              "      <td>119390.000000</td>\n",
              "      <td>119390.000000</td>\n",
              "      <td>119390.000000</td>\n",
              "      <td>103050.000000</td>\n",
              "      <td>6797.000000</td>\n",
              "      <td>119390.000000</td>\n",
              "      <td>119390.000000</td>\n",
              "      <td>119390.000000</td>\n",
              "      <td>119390.000000</td>\n",
              "    </tr>\n",
              "    <tr>\n",
              "      <th>mean</th>\n",
              "      <td>0.370416</td>\n",
              "      <td>104.011416</td>\n",
              "      <td>2016.156554</td>\n",
              "      <td>27.165173</td>\n",
              "      <td>15.798241</td>\n",
              "      <td>0.927599</td>\n",
              "      <td>2.500302</td>\n",
              "      <td>1.856403</td>\n",
              "      <td>0.103890</td>\n",
              "      <td>0.007949</td>\n",
              "      <td>0.031912</td>\n",
              "      <td>0.087118</td>\n",
              "      <td>0.137097</td>\n",
              "      <td>0.221124</td>\n",
              "      <td>86.693382</td>\n",
              "      <td>189.266735</td>\n",
              "      <td>2.321149</td>\n",
              "      <td>101.831122</td>\n",
              "      <td>0.062518</td>\n",
              "      <td>0.571363</td>\n",
              "    </tr>\n",
              "    <tr>\n",
              "      <th>std</th>\n",
              "      <td>0.482918</td>\n",
              "      <td>106.863097</td>\n",
              "      <td>0.707476</td>\n",
              "      <td>13.605138</td>\n",
              "      <td>8.780829</td>\n",
              "      <td>0.998613</td>\n",
              "      <td>1.908286</td>\n",
              "      <td>0.579261</td>\n",
              "      <td>0.398561</td>\n",
              "      <td>0.097436</td>\n",
              "      <td>0.175767</td>\n",
              "      <td>0.844336</td>\n",
              "      <td>1.497437</td>\n",
              "      <td>0.652306</td>\n",
              "      <td>110.774548</td>\n",
              "      <td>131.655015</td>\n",
              "      <td>17.594721</td>\n",
              "      <td>50.535790</td>\n",
              "      <td>0.245291</td>\n",
              "      <td>0.792798</td>\n",
              "    </tr>\n",
              "    <tr>\n",
              "      <th>min</th>\n",
              "      <td>0.000000</td>\n",
              "      <td>0.000000</td>\n",
              "      <td>2015.000000</td>\n",
              "      <td>1.000000</td>\n",
              "      <td>1.000000</td>\n",
              "      <td>0.000000</td>\n",
              "      <td>0.000000</td>\n",
              "      <td>0.000000</td>\n",
              "      <td>0.000000</td>\n",
              "      <td>0.000000</td>\n",
              "      <td>0.000000</td>\n",
              "      <td>0.000000</td>\n",
              "      <td>0.000000</td>\n",
              "      <td>0.000000</td>\n",
              "      <td>1.000000</td>\n",
              "      <td>6.000000</td>\n",
              "      <td>0.000000</td>\n",
              "      <td>-6.380000</td>\n",
              "      <td>0.000000</td>\n",
              "      <td>0.000000</td>\n",
              "    </tr>\n",
              "    <tr>\n",
              "      <th>25%</th>\n",
              "      <td>0.000000</td>\n",
              "      <td>18.000000</td>\n",
              "      <td>2016.000000</td>\n",
              "      <td>16.000000</td>\n",
              "      <td>8.000000</td>\n",
              "      <td>0.000000</td>\n",
              "      <td>1.000000</td>\n",
              "      <td>2.000000</td>\n",
              "      <td>0.000000</td>\n",
              "      <td>0.000000</td>\n",
              "      <td>0.000000</td>\n",
              "      <td>0.000000</td>\n",
              "      <td>0.000000</td>\n",
              "      <td>0.000000</td>\n",
              "      <td>9.000000</td>\n",
              "      <td>62.000000</td>\n",
              "      <td>0.000000</td>\n",
              "      <td>69.290000</td>\n",
              "      <td>0.000000</td>\n",
              "      <td>0.000000</td>\n",
              "    </tr>\n",
              "    <tr>\n",
              "      <th>50%</th>\n",
              "      <td>0.000000</td>\n",
              "      <td>69.000000</td>\n",
              "      <td>2016.000000</td>\n",
              "      <td>28.000000</td>\n",
              "      <td>16.000000</td>\n",
              "      <td>1.000000</td>\n",
              "      <td>2.000000</td>\n",
              "      <td>2.000000</td>\n",
              "      <td>0.000000</td>\n",
              "      <td>0.000000</td>\n",
              "      <td>0.000000</td>\n",
              "      <td>0.000000</td>\n",
              "      <td>0.000000</td>\n",
              "      <td>0.000000</td>\n",
              "      <td>14.000000</td>\n",
              "      <td>179.000000</td>\n",
              "      <td>0.000000</td>\n",
              "      <td>94.575000</td>\n",
              "      <td>0.000000</td>\n",
              "      <td>0.000000</td>\n",
              "    </tr>\n",
              "    <tr>\n",
              "      <th>75%</th>\n",
              "      <td>1.000000</td>\n",
              "      <td>160.000000</td>\n",
              "      <td>2017.000000</td>\n",
              "      <td>38.000000</td>\n",
              "      <td>23.000000</td>\n",
              "      <td>2.000000</td>\n",
              "      <td>3.000000</td>\n",
              "      <td>2.000000</td>\n",
              "      <td>0.000000</td>\n",
              "      <td>0.000000</td>\n",
              "      <td>0.000000</td>\n",
              "      <td>0.000000</td>\n",
              "      <td>0.000000</td>\n",
              "      <td>0.000000</td>\n",
              "      <td>229.000000</td>\n",
              "      <td>270.000000</td>\n",
              "      <td>0.000000</td>\n",
              "      <td>126.000000</td>\n",
              "      <td>0.000000</td>\n",
              "      <td>1.000000</td>\n",
              "    </tr>\n",
              "    <tr>\n",
              "      <th>max</th>\n",
              "      <td>1.000000</td>\n",
              "      <td>737.000000</td>\n",
              "      <td>2017.000000</td>\n",
              "      <td>53.000000</td>\n",
              "      <td>31.000000</td>\n",
              "      <td>19.000000</td>\n",
              "      <td>50.000000</td>\n",
              "      <td>55.000000</td>\n",
              "      <td>10.000000</td>\n",
              "      <td>10.000000</td>\n",
              "      <td>1.000000</td>\n",
              "      <td>26.000000</td>\n",
              "      <td>72.000000</td>\n",
              "      <td>21.000000</td>\n",
              "      <td>535.000000</td>\n",
              "      <td>543.000000</td>\n",
              "      <td>391.000000</td>\n",
              "      <td>5400.000000</td>\n",
              "      <td>8.000000</td>\n",
              "      <td>5.000000</td>\n",
              "    </tr>\n",
              "  </tbody>\n",
              "</table>\n",
              "</div>\n",
              "      <button class=\"colab-df-convert\" onclick=\"convertToInteractive('df-c104cb13-2961-4843-92f0-a00ad9f7a34e')\"\n",
              "              title=\"Convert this dataframe to an interactive table.\"\n",
              "              style=\"display:none;\">\n",
              "        \n",
              "  <svg xmlns=\"http://www.w3.org/2000/svg\" height=\"24px\"viewBox=\"0 0 24 24\"\n",
              "       width=\"24px\">\n",
              "    <path d=\"M0 0h24v24H0V0z\" fill=\"none\"/>\n",
              "    <path d=\"M18.56 5.44l.94 2.06.94-2.06 2.06-.94-2.06-.94-.94-2.06-.94 2.06-2.06.94zm-11 1L8.5 8.5l.94-2.06 2.06-.94-2.06-.94L8.5 2.5l-.94 2.06-2.06.94zm10 10l.94 2.06.94-2.06 2.06-.94-2.06-.94-.94-2.06-.94 2.06-2.06.94z\"/><path d=\"M17.41 7.96l-1.37-1.37c-.4-.4-.92-.59-1.43-.59-.52 0-1.04.2-1.43.59L10.3 9.45l-7.72 7.72c-.78.78-.78 2.05 0 2.83L4 21.41c.39.39.9.59 1.41.59.51 0 1.02-.2 1.41-.59l7.78-7.78 2.81-2.81c.8-.78.8-2.07 0-2.86zM5.41 20L4 18.59l7.72-7.72 1.47 1.35L5.41 20z\"/>\n",
              "  </svg>\n",
              "      </button>\n",
              "      \n",
              "  <style>\n",
              "    .colab-df-container {\n",
              "      display:flex;\n",
              "      flex-wrap:wrap;\n",
              "      gap: 12px;\n",
              "    }\n",
              "\n",
              "    .colab-df-convert {\n",
              "      background-color: #E8F0FE;\n",
              "      border: none;\n",
              "      border-radius: 50%;\n",
              "      cursor: pointer;\n",
              "      display: none;\n",
              "      fill: #1967D2;\n",
              "      height: 32px;\n",
              "      padding: 0 0 0 0;\n",
              "      width: 32px;\n",
              "    }\n",
              "\n",
              "    .colab-df-convert:hover {\n",
              "      background-color: #E2EBFA;\n",
              "      box-shadow: 0px 1px 2px rgba(60, 64, 67, 0.3), 0px 1px 3px 1px rgba(60, 64, 67, 0.15);\n",
              "      fill: #174EA6;\n",
              "    }\n",
              "\n",
              "    [theme=dark] .colab-df-convert {\n",
              "      background-color: #3B4455;\n",
              "      fill: #D2E3FC;\n",
              "    }\n",
              "\n",
              "    [theme=dark] .colab-df-convert:hover {\n",
              "      background-color: #434B5C;\n",
              "      box-shadow: 0px 1px 3px 1px rgba(0, 0, 0, 0.15);\n",
              "      filter: drop-shadow(0px 1px 2px rgba(0, 0, 0, 0.3));\n",
              "      fill: #FFFFFF;\n",
              "    }\n",
              "  </style>\n",
              "\n",
              "      <script>\n",
              "        const buttonEl =\n",
              "          document.querySelector('#df-c104cb13-2961-4843-92f0-a00ad9f7a34e button.colab-df-convert');\n",
              "        buttonEl.style.display =\n",
              "          google.colab.kernel.accessAllowed ? 'block' : 'none';\n",
              "\n",
              "        async function convertToInteractive(key) {\n",
              "          const element = document.querySelector('#df-c104cb13-2961-4843-92f0-a00ad9f7a34e');\n",
              "          const dataTable =\n",
              "            await google.colab.kernel.invokeFunction('convertToInteractive',\n",
              "                                                     [key], {});\n",
              "          if (!dataTable) return;\n",
              "\n",
              "          const docLinkHtml = 'Like what you see? Visit the ' +\n",
              "            '<a target=\"_blank\" href=https://colab.research.google.com/notebooks/data_table.ipynb>data table notebook</a>'\n",
              "            + ' to learn more about interactive tables.';\n",
              "          element.innerHTML = '';\n",
              "          dataTable['output_type'] = 'display_data';\n",
              "          await google.colab.output.renderOutput(dataTable, element);\n",
              "          const docLink = document.createElement('div');\n",
              "          docLink.innerHTML = docLinkHtml;\n",
              "          element.appendChild(docLink);\n",
              "        }\n",
              "      </script>\n",
              "    </div>\n",
              "  </div>\n",
              "  "
            ],
            "text/plain": [
              "         is_canceled      lead_time  arrival_date_year  \\\n",
              "count  119390.000000  119390.000000      119390.000000   \n",
              "mean        0.370416     104.011416        2016.156554   \n",
              "std         0.482918     106.863097           0.707476   \n",
              "min         0.000000       0.000000        2015.000000   \n",
              "25%         0.000000      18.000000        2016.000000   \n",
              "50%         0.000000      69.000000        2016.000000   \n",
              "75%         1.000000     160.000000        2017.000000   \n",
              "max         1.000000     737.000000        2017.000000   \n",
              "\n",
              "       arrival_date_week_number  arrival_date_day_of_month  \\\n",
              "count             119390.000000              119390.000000   \n",
              "mean                  27.165173                  15.798241   \n",
              "std                   13.605138                   8.780829   \n",
              "min                    1.000000                   1.000000   \n",
              "25%                   16.000000                   8.000000   \n",
              "50%                   28.000000                  16.000000   \n",
              "75%                   38.000000                  23.000000   \n",
              "max                   53.000000                  31.000000   \n",
              "\n",
              "       stays_in_weekend_nights  stays_in_week_nights         adults  \\\n",
              "count            119390.000000         119390.000000  119390.000000   \n",
              "mean                  0.927599              2.500302       1.856403   \n",
              "std                   0.998613              1.908286       0.579261   \n",
              "min                   0.000000              0.000000       0.000000   \n",
              "25%                   0.000000              1.000000       2.000000   \n",
              "50%                   1.000000              2.000000       2.000000   \n",
              "75%                   2.000000              3.000000       2.000000   \n",
              "max                  19.000000             50.000000      55.000000   \n",
              "\n",
              "            children         babies  is_repeated_guest  \\\n",
              "count  119386.000000  119390.000000      119390.000000   \n",
              "mean        0.103890       0.007949           0.031912   \n",
              "std         0.398561       0.097436           0.175767   \n",
              "min         0.000000       0.000000           0.000000   \n",
              "25%         0.000000       0.000000           0.000000   \n",
              "50%         0.000000       0.000000           0.000000   \n",
              "75%         0.000000       0.000000           0.000000   \n",
              "max        10.000000      10.000000           1.000000   \n",
              "\n",
              "       previous_cancellations  previous_bookings_not_canceled  \\\n",
              "count           119390.000000                   119390.000000   \n",
              "mean                 0.087118                        0.137097   \n",
              "std                  0.844336                        1.497437   \n",
              "min                  0.000000                        0.000000   \n",
              "25%                  0.000000                        0.000000   \n",
              "50%                  0.000000                        0.000000   \n",
              "75%                  0.000000                        0.000000   \n",
              "max                 26.000000                       72.000000   \n",
              "\n",
              "       booking_changes          agent      company  days_in_waiting_list  \\\n",
              "count    119390.000000  103050.000000  6797.000000         119390.000000   \n",
              "mean          0.221124      86.693382   189.266735              2.321149   \n",
              "std           0.652306     110.774548   131.655015             17.594721   \n",
              "min           0.000000       1.000000     6.000000              0.000000   \n",
              "25%           0.000000       9.000000    62.000000              0.000000   \n",
              "50%           0.000000      14.000000   179.000000              0.000000   \n",
              "75%           0.000000     229.000000   270.000000              0.000000   \n",
              "max          21.000000     535.000000   543.000000            391.000000   \n",
              "\n",
              "                 adr  required_car_parking_spaces  total_of_special_requests  \n",
              "count  119390.000000                119390.000000              119390.000000  \n",
              "mean      101.831122                     0.062518                   0.571363  \n",
              "std        50.535790                     0.245291                   0.792798  \n",
              "min        -6.380000                     0.000000                   0.000000  \n",
              "25%        69.290000                     0.000000                   0.000000  \n",
              "50%        94.575000                     0.000000                   0.000000  \n",
              "75%       126.000000                     0.000000                   1.000000  \n",
              "max      5400.000000                     8.000000                   5.000000  "
            ]
          },
          "execution_count": 6,
          "metadata": {},
          "output_type": "execute_result"
        }
      ],
      "source": [
        "#looking at the count, min, max values,mean values etc.\n",
        "hotel_data.describe() "
      ]
    },
    {
      "cell_type": "code",
      "execution_count": null,
      "metadata": {
        "colab": {
          "base_uri": "https://localhost:8080/"
        },
        "id": "O3mRXeG5fi1n",
        "outputId": "1eabc717-ccf5-4d37-9ae8-96a0041c7464"
      },
      "outputs": [
        {
          "name": "stdout",
          "output_type": "stream",
          "text": [
            "<class 'pandas.core.frame.DataFrame'>\n",
            "RangeIndex: 119390 entries, 0 to 119389\n",
            "Data columns (total 32 columns):\n",
            " #   Column                          Non-Null Count   Dtype  \n",
            "---  ------                          --------------   -----  \n",
            " 0   hotel                           119390 non-null  object \n",
            " 1   is_canceled                     119390 non-null  int64  \n",
            " 2   lead_time                       119390 non-null  int64  \n",
            " 3   arrival_date_year               119390 non-null  int64  \n",
            " 4   arrival_date_month              119390 non-null  object \n",
            " 5   arrival_date_week_number        119390 non-null  int64  \n",
            " 6   arrival_date_day_of_month       119390 non-null  int64  \n",
            " 7   stays_in_weekend_nights         119390 non-null  int64  \n",
            " 8   stays_in_week_nights            119390 non-null  int64  \n",
            " 9   adults                          119390 non-null  int64  \n",
            " 10  children                        119386 non-null  float64\n",
            " 11  babies                          119390 non-null  int64  \n",
            " 12  meal                            119390 non-null  object \n",
            " 13  country                         118902 non-null  object \n",
            " 14  market_segment                  119390 non-null  object \n",
            " 15  distribution_channel            119390 non-null  object \n",
            " 16  is_repeated_guest               119390 non-null  int64  \n",
            " 17  previous_cancellations          119390 non-null  int64  \n",
            " 18  previous_bookings_not_canceled  119390 non-null  int64  \n",
            " 19  reserved_room_type              119390 non-null  object \n",
            " 20  assigned_room_type              119390 non-null  object \n",
            " 21  booking_changes                 119390 non-null  int64  \n",
            " 22  deposit_type                    119390 non-null  object \n",
            " 23  agent                           103050 non-null  float64\n",
            " 24  company                         6797 non-null    float64\n",
            " 25  days_in_waiting_list            119390 non-null  int64  \n",
            " 26  customer_type                   119390 non-null  object \n",
            " 27  adr                             119390 non-null  float64\n",
            " 28  required_car_parking_spaces     119390 non-null  int64  \n",
            " 29  total_of_special_requests       119390 non-null  int64  \n",
            " 30  reservation_status              119390 non-null  object \n",
            " 31  reservation_status_date         119390 non-null  object \n",
            "dtypes: float64(4), int64(16), object(12)\n",
            "memory usage: 29.1+ MB\n"
          ]
        }
      ],
      "source": [
        "#Checking for the data types non null entries\n",
        "hotel_data.info()"
      ]
    },
    {
      "cell_type": "markdown",
      "metadata": {
        "id": "QLag3csP2RKG"
      },
      "source": [
        "## Data Pre-Processing"
      ]
    },
    {
      "cell_type": "code",
      "execution_count": null,
      "metadata": {
        "id": "X4QN54h-2RKH"
      },
      "outputs": [],
      "source": [
        "## First we Copy the dataset\n",
        "copy_df = hotel_data.copy()"
      ]
    },
    {
      "cell_type": "markdown",
      "metadata": {
        "id": "2Zjh0SMi2RKJ"
      },
      "source": [
        "### `1. Dealing with Missing Values`"
      ]
    },
    {
      "cell_type": "code",
      "execution_count": null,
      "metadata": {
        "colab": {
          "base_uri": "https://localhost:8080/"
        },
        "id": "Kymt5EGT2RKK",
        "outputId": "90a989e1-1b1c-4e18-e1df-b8a93f836c3e"
      },
      "outputs": [
        {
          "data": {
            "text/plain": [
              "company                   112593\n",
              "agent                      16340\n",
              "country                      488\n",
              "children                       4\n",
              "reserved_room_type             0\n",
              "assigned_room_type             0\n",
              "booking_changes                0\n",
              "deposit_type                   0\n",
              "hotel                          0\n",
              "previous_cancellations         0\n",
              "dtype: int64"
            ]
          },
          "execution_count": 9,
          "metadata": {},
          "output_type": "execute_result"
        }
      ],
      "source": [
        "## Find the missing value, show the total null values for each column and sort it in descending order\n",
        "copy_df.isnull().sum().sort_values(ascending=False)[:10] "
      ]
    },
    {
      "cell_type": "code",
      "execution_count": null,
      "metadata": {
        "id": "MVg-yVG82RKL"
      },
      "outputs": [],
      "source": [
        "## In the above cell we see there are mainly 4 columns have containg null values so we target them and fill it.\n",
        "\n",
        "## Drop Rows where there is no adult, baby and child\n",
        "copy_df = copy_df.drop(copy_df[(copy_df.adults+copy_df.babies+copy_df.children)==0].index)\n",
        "\n",
        "\n",
        "## If no id of agent or company is null, just replace it with 0\n",
        "copy_df[['agent','company']] = copy_df[['agent','company']].fillna(0.0)\n",
        "\n",
        "\n",
        "## For the missing values in the country column, replace it with mode (value that appears most often).\n",
        "copy_df['country'].fillna(hotel_data.country.mode().to_string(), inplace=True)\n",
        "\n",
        "\n",
        "## for missing children value, replace it with rounded mean value\n",
        "copy_df['children'].fillna(round(hotel_data.children.mean()), inplace=True)   "
      ]
    },
    {
      "cell_type": "markdown",
      "metadata": {
        "id": "qPqMncjc2RKM"
      },
      "source": [
        "### `2. Converting Datatype`"
      ]
    },
    {
      "cell_type": "code",
      "execution_count": null,
      "metadata": {
        "id": "t3RWq-WE2RKN"
      },
      "outputs": [],
      "source": [
        "## convert datatype of these columns from float to integer\n",
        "copy_df[['children', 'company', 'agent']] = copy_df[['children', 'company', 'agent']].astype('int64') "
      ]
    },
    {
      "cell_type": "markdown",
      "metadata": {
        "id": "851ahND62RKN"
      },
      "source": [
        "<hr>"
      ]
    },
    {
      "cell_type": "markdown",
      "metadata": {
        "id": "zhESeU-N2RKO"
      },
      "source": [
        "## Exploratory Data Analysis"
      ]
    },
    {
      "cell_type": "code",
      "execution_count": null,
      "metadata": {
        "id": "S8XZVtgg2RKO"
      },
      "outputs": [],
      "source": [
        "## Main Part Start EDA\n",
        "## For Easily Ploting Graph we Create a function so we use it directly by just calling the function and Enter value inside it.\n",
        "## For Ploting Graph we use seaborn and pyplot.\n",
        "def plot(x, y, x_label=None,y_label=None, title=None, figsize=(8,5), type='bar'):\n",
        "    '''\n",
        "    INPUT Work :\n",
        "        x-:        Array containing values for x-axis\n",
        "        y-:        Array containing values for y-axis\n",
        "        x_lable-:  String value for x-axis label\n",
        "        y_lable-:  String value for y-axis label\n",
        "        title-:    String value for plot title\n",
        "        figsize-:  tuple value, for figure size\n",
        "        type-:     type of plot (default is bar plot) \n",
        "    OUTPUT-:\n",
        "        Display the plot\n",
        "    '''\n",
        "    sns.set_style('darkgrid') ## We call seaborn as sns for set background style in DarkGrid\n",
        "    \n",
        "    fig, ax = plt.subplots(figsize=figsize)   \n",
        "    colors = sns.color_palette('pastel')[0:5]\n",
        "    \n",
        "    if x_label != None:\n",
        "        ax.set_xlabel(x_label)\n",
        "    \n",
        "    if y_label != None:\n",
        "        ax.set_ylabel(y_label)\n",
        "        \n",
        "    if title != None:\n",
        "        ax.set_title(title)\n",
        "    \n",
        "    if type == 'bar':\n",
        "        sns.barplot(x,y, ax = ax)\n",
        "    elif type == 'line':\n",
        "        sns.lineplot(x,y, ax = ax)\n",
        "    elif type == 'pie' :\n",
        "        plt.pie(y, labels= x ,colors=colors , shadow = True ,autopct='%.0f%%')\n",
        "  \n",
        "    plt.show()"
      ]
    },
    {
      "cell_type": "code",
      "execution_count": null,
      "metadata": {
        "id": "WTjR0L542RKP"
      },
      "outputs": [],
      "source": [
        "## Another Function for Count the Values (Capturing the values) from the dataset.\n",
        "def get_count(column, limit=None):\n",
        "    \n",
        "    '''\n",
        "    INPUT Work:\n",
        "        series: Pandas Series (Single Column from DataFrame)\n",
        "        limit:  If value given, limit the output value to first limit samples.\n",
        "    OUTPUT:\n",
        "        x = Unique values\n",
        "        y = Count of unique values\n",
        "    '''\n",
        "    \n",
        "    if limit != None:\n",
        "        column = column.value_counts()[:limit]\n",
        "    else:\n",
        "        column = column.value_counts()\n",
        "    \n",
        "    x = column.index\n",
        "    y = column/column.sum()*100\n",
        "    return x.values,y.values\n",
        "  \n"
      ]
    },
    {
      "cell_type": "code",
      "execution_count": null,
      "metadata": {
        "id": "vdeOd-Txjhut"
      },
      "outputs": [],
      "source": [
        ""
      ]
    },
    {
      "cell_type": "markdown",
      "metadata": {
        "id": "S9i-uQBs2RKQ"
      },
      "source": [
        "### Let's try to answer our questions"
      ]
    },
    {
      "cell_type": "markdown",
      "metadata": {
        "id": "mid4sPaE2RKQ"
      },
      "source": [
        "### `1. How Many Booking Were Cancelled`"
      ]
    },
    {
      "cell_type": "code",
      "execution_count": null,
      "metadata": {
        "colab": {
          "base_uri": "https://localhost:8080/",
          "height": 406
        },
        "id": "gsFQVV8vL3ZX",
        "outputId": "041fd2ba-2f08-45c4-9f6f-1a5bc20a24b8"
      },
      "outputs": [
        {
          "name": "stderr",
          "output_type": "stream",
          "text": [
            "/usr/local/lib/python3.7/dist-packages/seaborn/_decorators.py:43: FutureWarning: Pass the following variables as keyword args: x, y. From version 0.12, the only valid positional argument will be `data`, and passing other arguments without an explicit keyword will result in an error or misinterpretation.\n",
            "  FutureWarning\n"
          ]
        },
        {
          "data": {
            "image/png": "[encoded data removed]",
            "text/plain": [
              "<Figure size 576x360 with 1 Axes>"
            ]
          },
          "metadata": {},
          "output_type": "display_data"
        }
      ],
      "source": [
        "x,y = get_count(copy_df['is_canceled'])\n",
        "plot(x,y, x_label='Booking Cancelled (No = 0, Yes = 1)', y_label='Booking (%)', type = 'bar', title = 'Fig Shows, How many percentage of Booking Cancel in Hotel') "
      ]
    },
    {
      "cell_type": "markdown",
      "metadata": {
        "id": "G3oiHuVQ2RKR"
      },
      "source": [
        "#### `For further analysis, We Select only those booking which did not get cancelled.`"
      ]
    },
    {
      "cell_type": "code",
      "execution_count": null,
      "metadata": {
        "colab": {
          "base_uri": "https://localhost:8080/",
          "height": 357
        },
        "id": "wDQei4eG2RKS",
        "outputId": "b85379fb-fbef-44ae-d9ec-fdef06de2a8e"
      },
      "outputs": [
        {
          "data": {
            "text/html": [
              "\n",
              "  <div id=\"df-e5018ce3-5063-4069-8692-42bff0df27bc\">\n",
              "    <div class=\"colab-df-container\">\n",
              "      <div>\n",
              "<style scoped>\n",
              "    .dataframe tbody tr th:only-of-type {\n",
              "        vertical-align: middle;\n",
              "    }\n",
              "\n",
              "    .dataframe tbody tr th {\n",
              "        vertical-align: top;\n",
              "    }\n",
              "\n",
              "    .dataframe thead th {\n",
              "        text-align: right;\n",
              "    }\n",
              "</style>\n",
              "<table border=\"1\" class=\"dataframe\">\n",
              "  <thead>\n",
              "    <tr style=\"text-align: right;\">\n",
              "      <th></th>\n",
              "      <th>hotel</th>\n",
              "      <th>is_canceled</th>\n",
              "      <th>lead_time</th>\n",
              "      <th>arrival_date_year</th>\n",
              "      <th>arrival_date_month</th>\n",
              "      <th>arrival_date_week_number</th>\n",
              "      <th>arrival_date_day_of_month</th>\n",
              "      <th>stays_in_weekend_nights</th>\n",
              "      <th>stays_in_week_nights</th>\n",
              "      <th>adults</th>\n",
              "      <th>children</th>\n",
              "      <th>babies</th>\n",
              "      <th>meal</th>\n",
              "      <th>country</th>\n",
              "      <th>market_segment</th>\n",
              "      <th>distribution_channel</th>\n",
              "      <th>is_repeated_guest</th>\n",
              "      <th>previous_cancellations</th>\n",
              "      <th>previous_bookings_not_canceled</th>\n",
              "      <th>reserved_room_type</th>\n",
              "      <th>assigned_room_type</th>\n",
              "      <th>booking_changes</th>\n",
              "      <th>deposit_type</th>\n",
              "      <th>agent</th>\n",
              "      <th>company</th>\n",
              "      <th>days_in_waiting_list</th>\n",
              "      <th>customer_type</th>\n",
              "      <th>adr</th>\n",
              "      <th>required_car_parking_spaces</th>\n",
              "      <th>total_of_special_requests</th>\n",
              "      <th>reservation_status</th>\n",
              "      <th>reservation_status_date</th>\n",
              "    </tr>\n",
              "  </thead>\n",
              "  <tbody>\n",
              "    <tr>\n",
              "      <th>0</th>\n",
              "      <td>Resort Hotel</td>\n",
              "      <td>0</td>\n",
              "      <td>342</td>\n",
              "      <td>2015</td>\n",
              "      <td>July</td>\n",
              "      <td>27</td>\n",
              "      <td>1</td>\n",
              "      <td>0</td>\n",
              "      <td>0</td>\n",
              "      <td>2</td>\n",
              "      <td>0</td>\n",
              "      <td>0</td>\n",
              "      <td>BB</td>\n",
              "      <td>PRT</td>\n",
              "      <td>Direct</td>\n",
              "      <td>Direct</td>\n",
              "      <td>0</td>\n",
              "      <td>0</td>\n",
              "      <td>0</td>\n",
              "      <td>C</td>\n",
              "      <td>C</td>\n",
              "      <td>3</td>\n",
              "      <td>No Deposit</td>\n",
              "      <td>0</td>\n",
              "      <td>0</td>\n",
              "      <td>0</td>\n",
              "      <td>Transient</td>\n",
              "      <td>0.0</td>\n",
              "      <td>0</td>\n",
              "      <td>0</td>\n",
              "      <td>Check-Out</td>\n",
              "      <td>2015-07-01</td>\n",
              "    </tr>\n",
              "    <tr>\n",
              "      <th>1</th>\n",
              "      <td>Resort Hotel</td>\n",
              "      <td>0</td>\n",
              "      <td>737</td>\n",
              "      <td>2015</td>\n",
              "      <td>July</td>\n",
              "      <td>27</td>\n",
              "      <td>1</td>\n",
              "      <td>0</td>\n",
              "      <td>0</td>\n",
              "      <td>2</td>\n",
              "      <td>0</td>\n",
              "      <td>0</td>\n",
              "      <td>BB</td>\n",
              "      <td>PRT</td>\n",
              "      <td>Direct</td>\n",
              "      <td>Direct</td>\n",
              "      <td>0</td>\n",
              "      <td>0</td>\n",
              "      <td>0</td>\n",
              "      <td>C</td>\n",
              "      <td>C</td>\n",
              "      <td>4</td>\n",
              "      <td>No Deposit</td>\n",
              "      <td>0</td>\n",
              "      <td>0</td>\n",
              "      <td>0</td>\n",
              "      <td>Transient</td>\n",
              "      <td>0.0</td>\n",
              "      <td>0</td>\n",
              "      <td>0</td>\n",
              "      <td>Check-Out</td>\n",
              "      <td>2015-07-01</td>\n",
              "    </tr>\n",
              "    <tr>\n",
              "      <th>2</th>\n",
              "      <td>Resort Hotel</td>\n",
              "      <td>0</td>\n",
              "      <td>7</td>\n",
              "      <td>2015</td>\n",
              "      <td>July</td>\n",
              "      <td>27</td>\n",
              "      <td>1</td>\n",
              "      <td>0</td>\n",
              "      <td>1</td>\n",
              "      <td>1</td>\n",
              "      <td>0</td>\n",
              "      <td>0</td>\n",
              "      <td>BB</td>\n",
              "      <td>GBR</td>\n",
              "      <td>Direct</td>\n",
              "      <td>Direct</td>\n",
              "      <td>0</td>\n",
              "      <td>0</td>\n",
              "      <td>0</td>\n",
              "      <td>A</td>\n",
              "      <td>C</td>\n",
              "      <td>0</td>\n",
              "      <td>No Deposit</td>\n",
              "      <td>0</td>\n",
              "      <td>0</td>\n",
              "      <td>0</td>\n",
              "      <td>Transient</td>\n",
              "      <td>75.0</td>\n",
              "      <td>0</td>\n",
              "      <td>0</td>\n",
              "      <td>Check-Out</td>\n",
              "      <td>2015-07-02</td>\n",
              "    </tr>\n",
              "    <tr>\n",
              "      <th>3</th>\n",
              "      <td>Resort Hotel</td>\n",
              "      <td>0</td>\n",
              "      <td>13</td>\n",
              "      <td>2015</td>\n",
              "      <td>July</td>\n",
              "      <td>27</td>\n",
              "      <td>1</td>\n",
              "      <td>0</td>\n",
              "      <td>1</td>\n",
              "      <td>1</td>\n",
              "      <td>0</td>\n",
              "      <td>0</td>\n",
              "      <td>BB</td>\n",
              "      <td>GBR</td>\n",
              "      <td>Corporate</td>\n",
              "      <td>Corporate</td>\n",
              "      <td>0</td>\n",
              "      <td>0</td>\n",
              "      <td>0</td>\n",
              "      <td>A</td>\n",
              "      <td>A</td>\n",
              "      <td>0</td>\n",
              "      <td>No Deposit</td>\n",
              "      <td>304</td>\n",
              "      <td>0</td>\n",
              "      <td>0</td>\n",
              "      <td>Transient</td>\n",
              "      <td>75.0</td>\n",
              "      <td>0</td>\n",
              "      <td>0</td>\n",
              "      <td>Check-Out</td>\n",
              "      <td>2015-07-02</td>\n",
              "    </tr>\n",
              "    <tr>\n",
              "      <th>4</th>\n",
              "      <td>Resort Hotel</td>\n",
              "      <td>0</td>\n",
              "      <td>14</td>\n",
              "      <td>2015</td>\n",
              "      <td>July</td>\n",
              "      <td>27</td>\n",
              "      <td>1</td>\n",
              "      <td>0</td>\n",
              "      <td>2</td>\n",
              "      <td>2</td>\n",
              "      <td>0</td>\n",
              "      <td>0</td>\n",
              "      <td>BB</td>\n",
              "      <td>GBR</td>\n",
              "      <td>Online TA</td>\n",
              "      <td>TA/TO</td>\n",
              "      <td>0</td>\n",
              "      <td>0</td>\n",
              "      <td>0</td>\n",
              "      <td>A</td>\n",
              "      <td>A</td>\n",
              "      <td>0</td>\n",
              "      <td>No Deposit</td>\n",
              "      <td>240</td>\n",
              "      <td>0</td>\n",
              "      <td>0</td>\n",
              "      <td>Transient</td>\n",
              "      <td>98.0</td>\n",
              "      <td>0</td>\n",
              "      <td>1</td>\n",
              "      <td>Check-Out</td>\n",
              "      <td>2015-07-03</td>\n",
              "    </tr>\n",
              "  </tbody>\n",
              "</table>\n",
              "</div>\n",
              "      <button class=\"colab-df-convert\" onclick=\"convertToInteractive('df-e5018ce3-5063-4069-8692-42bff0df27bc')\"\n",
              "              title=\"Convert this dataframe to an interactive table.\"\n",
              "              style=\"display:none;\">\n",
              "        \n",
              "  <svg xmlns=\"http://www.w3.org/2000/svg\" height=\"24px\"viewBox=\"0 0 24 24\"\n",
              "       width=\"24px\">\n",
              "    <path d=\"M0 0h24v24H0V0z\" fill=\"none\"/>\n",
              "    <path d=\"M18.56 5.44l.94 2.06.94-2.06 2.06-.94-2.06-.94-.94-2.06-.94 2.06-2.06.94zm-11 1L8.5 8.5l.94-2.06 2.06-.94-2.06-.94L8.5 2.5l-.94 2.06-2.06.94zm10 10l.94 2.06.94-2.06 2.06-.94-2.06-.94-.94-2.06-.94 2.06-2.06.94z\"/><path d=\"M17.41 7.96l-1.37-1.37c-.4-.4-.92-.59-1.43-.59-.52 0-1.04.2-1.43.59L10.3 9.45l-7.72 7.72c-.78.78-.78 2.05 0 2.83L4 21.41c.39.39.9.59 1.41.59.51 0 1.02-.2 1.41-.59l7.78-7.78 2.81-2.81c.8-.78.8-2.07 0-2.86zM5.41 20L4 18.59l7.72-7.72 1.47 1.35L5.41 20z\"/>\n",
              "  </svg>\n",
              "      </button>\n",
              "      \n",
              "  <style>\n",
              "    .colab-df-container {\n",
              "      display:flex;\n",
              "      flex-wrap:wrap;\n",
              "      gap: 12px;\n",
              "    }\n",
              "\n",
              "    .colab-df-convert {\n",
              "      background-color: #E8F0FE;\n",
              "      border: none;\n",
              "      border-radius: 50%;\n",
              "      cursor: pointer;\n",
              "      display: none;\n",
              "      fill: #1967D2;\n",
              "      height: 32px;\n",
              "      padding: 0 0 0 0;\n",
              "      width: 32px;\n",
              "    }\n",
              "\n",
              "    .colab-df-convert:hover {\n",
              "      background-color: #E2EBFA;\n",
              "      box-shadow: 0px 1px 2px rgba(60, 64, 67, 0.3), 0px 1px 3px 1px rgba(60, 64, 67, 0.15);\n",
              "      fill: #174EA6;\n",
              "    }\n",
              "\n",
              "    [theme=dark] .colab-df-convert {\n",
              "      background-color: #3B4455;\n",
              "      fill: #D2E3FC;\n",
              "    }\n",
              "\n",
              "    [theme=dark] .colab-df-convert:hover {\n",
              "      background-color: #434B5C;\n",
              "      box-shadow: 0px 1px 3px 1px rgba(0, 0, 0, 0.15);\n",
              "      filter: drop-shadow(0px 1px 2px rgba(0, 0, 0, 0.3));\n",
              "      fill: #FFFFFF;\n",
              "    }\n",
              "  </style>\n",
              "\n",
              "      <script>\n",
              "        const buttonEl =\n",
              "          document.querySelector('#df-e5018ce3-5063-4069-8692-42bff0df27bc button.colab-df-convert');\n",
              "        buttonEl.style.display =\n",
              "          google.colab.kernel.accessAllowed ? 'block' : 'none';\n",
              "\n",
              "        async function convertToInteractive(key) {\n",
              "          const element = document.querySelector('#df-e5018ce3-5063-4069-8692-42bff0df27bc');\n",
              "          const dataTable =\n",
              "            await google.colab.kernel.invokeFunction('convertToInteractive',\n",
              "                                                     [key], {});\n",
              "          if (!dataTable) return;\n",
              "\n",
              "          const docLinkHtml = 'Like what you see? Visit the ' +\n",
              "            '<a target=\"_blank\" href=https://colab.research.google.com/notebooks/data_table.ipynb>data table notebook</a>'\n",
              "            + ' to learn more about interactive tables.';\n",
              "          element.innerHTML = '';\n",
              "          dataTable['output_type'] = 'display_data';\n",
              "          await google.colab.output.renderOutput(dataTable, element);\n",
              "          const docLink = document.createElement('div');\n",
              "          docLink.innerHTML = docLinkHtml;\n",
              "          element.appendChild(docLink);\n",
              "        }\n",
              "      </script>\n",
              "    </div>\n",
              "  </div>\n",
              "  "
            ],
            "text/plain": [
              "          hotel  is_canceled  lead_time  arrival_date_year arrival_date_month  \\\n",
              "0  Resort Hotel            0        342               2015               July   \n",
              "1  Resort Hotel            0        737               2015               July   \n",
              "2  Resort Hotel            0          7               2015               July   \n",
              "3  Resort Hotel            0         13               2015               July   \n",
              "4  Resort Hotel            0         14               2015               July   \n",
              "\n",
              "   arrival_date_week_number  arrival_date_day_of_month  \\\n",
              "0                        27                          1   \n",
              "1                        27                          1   \n",
              "2                        27                          1   \n",
              "3                        27                          1   \n",
              "4                        27                          1   \n",
              "\n",
              "   stays_in_weekend_nights  stays_in_week_nights  adults  children  babies  \\\n",
              "0                        0                     0       2         0       0   \n",
              "1                        0                     0       2         0       0   \n",
              "2                        0                     1       1         0       0   \n",
              "3                        0                     1       1         0       0   \n",
              "4                        0                     2       2         0       0   \n",
              "\n",
              "  meal country market_segment distribution_channel  is_repeated_guest  \\\n",
              "0   BB     PRT         Direct               Direct                  0   \n",
              "1   BB     PRT         Direct               Direct                  0   \n",
              "2   BB     GBR         Direct               Direct                  0   \n",
              "3   BB     GBR      Corporate            Corporate                  0   \n",
              "4   BB     GBR      Online TA                TA/TO                  0   \n",
              "\n",
              "   previous_cancellations  previous_bookings_not_canceled reserved_room_type  \\\n",
              "0                       0                               0                  C   \n",
              "1                       0                               0                  C   \n",
              "2                       0                               0                  A   \n",
              "3                       0                               0                  A   \n",
              "4                       0                               0                  A   \n",
              "\n",
              "  assigned_room_type  booking_changes deposit_type  agent  company  \\\n",
              "0                  C                3   No Deposit      0        0   \n",
              "1                  C                4   No Deposit      0        0   \n",
              "2                  C                0   No Deposit      0        0   \n",
              "3                  A                0   No Deposit    304        0   \n",
              "4                  A                0   No Deposit    240        0   \n",
              "\n",
              "   days_in_waiting_list customer_type   adr  required_car_parking_spaces  \\\n",
              "0                     0     Transient   0.0                            0   \n",
              "1                     0     Transient   0.0                            0   \n",
              "2                     0     Transient  75.0                            0   \n",
              "3                     0     Transient  75.0                            0   \n",
              "4                     0     Transient  98.0                            0   \n",
              "\n",
              "   total_of_special_requests reservation_status reservation_status_date  \n",
              "0                          0          Check-Out              2015-07-01  \n",
              "1                          0          Check-Out              2015-07-01  \n",
              "2                          0          Check-Out              2015-07-02  \n",
              "3                          0          Check-Out              2015-07-02  \n",
              "4                          1          Check-Out              2015-07-03  "
            ]
          },
          "execution_count": 15,
          "metadata": {},
          "output_type": "execute_result"
        }
      ],
      "source": [
        "df_not_canceled = copy_df[copy_df['is_canceled'] == 0]\n",
        "df_not_canceled.head()"
      ]
    },
    {
      "cell_type": "markdown",
      "metadata": {
        "id": "I_-c28hv2RKT"
      },
      "source": [
        "### `2. What is the booking ratio between Resort Hotel and City Hotel?`"
      ]
    },
    {
      "cell_type": "code",
      "execution_count": null,
      "metadata": {
        "colab": {
          "base_uri": "https://localhost:8080/",
          "height": 319
        },
        "id": "zCSZp5-L2RKT",
        "outputId": "31a2d0b9-3dda-47ae-a103-a3141e2dc318"
      },
      "outputs": [
        {
          "data": {
            "image/png": "[encoded data removed]",
            "text/plain": [
              "<Figure size 576x360 with 1 Axes>"
            ]
          },
          "metadata": {},
          "output_type": "display_data"
        }
      ],
      "source": [
        "x,y = get_count(df_not_canceled['hotel']) \n",
        "plot(x,y, x_label='', y_label='Total Booking in (%)', title='Hotel comparison', type = 'pie')  "
      ]
    },
    {
      "cell_type": "markdown",
      "metadata": {
        "id": "dgV3XSA92RKU"
      },
      "source": [
        "### `3. What is the percentage of booking for each year?`"
      ]
    },
    {
      "cell_type": "code",
      "execution_count": null,
      "metadata": {
        "colab": {
          "base_uri": "https://localhost:8080/",
          "height": 406
        },
        "id": "5lr6gAVZ2RKU",
        "outputId": "d45167e4-7e16-46e2-c001-ed274273bf0f"
      },
      "outputs": [
        {
          "name": "stderr",
          "output_type": "stream",
          "text": [
            "/usr/local/lib/python3.7/dist-packages/seaborn/_decorators.py:43: FutureWarning: Pass the following variables as keyword args: x, y. From version 0.12, the only valid positional argument will be `data`, and passing other arguments without an explicit keyword will result in an error or misinterpretation.\n",
            "  FutureWarning\n"
          ]
        },
        {
          "data": {
            "image/png": "[encoded data removed]",
            "text/plain": [
              "<Figure size 576x360 with 1 Axes>"
            ]
          },
          "metadata": {},
          "output_type": "display_data"
        }
      ],
      "source": [
        "x,y = get_count(df_not_canceled['arrival_date_year'])\n",
        "plot(x,y, x_label='Year', y_label='Total Booking (%)', title='Year comparison For Each Year', type = 'bar')"
      ]
    },
    {
      "cell_type": "markdown",
      "metadata": {
        "id": "EEhgKfrd2RKU"
      },
      "source": [
        "#### `Let's separte it by hotel`"
      ]
    },
    {
      "cell_type": "code",
      "execution_count": null,
      "metadata": {
        "colab": {
          "base_uri": "https://localhost:8080/",
          "height": 335
        },
        "id": "KlYxBY0h2RKV",
        "outputId": "db87af50-21be-4508-b361-a03426c17c98"
      },
      "outputs": [
        {
          "data": {
            "image/png": "[encoded data removed]",
            "text/plain": [
              "<Figure size 504x360 with 1 Axes>"
            ]
          },
          "metadata": {},
          "output_type": "display_data"
        }
      ],
      "source": [
        "plt.subplots(figsize=(7,5))\n",
        "sns.countplot(x='arrival_date_year', hue='hotel',  data=df_not_canceled);"
      ]
    },
    {
      "cell_type": "markdown",
      "metadata": {
        "id": "-wkNjXfE2RKV"
      },
      "source": [
        "### `4. Which is the most busy month for hotel?`"
      ]
    },
    {
      "cell_type": "code",
      "execution_count": null,
      "metadata": {
        "colab": {
          "base_uri": "https://localhost:8080/",
          "height": 460
        },
        "id": "v0WXdOHy2RKV",
        "outputId": "27df3b93-c09d-4c00-925e-1504d620216e"
      },
      "outputs": [
        {
          "name": "stderr",
          "output_type": "stream",
          "text": [
            "/usr/local/lib/python3.7/dist-packages/seaborn/_decorators.py:43: FutureWarning: Pass the following variables as keyword args: x, y. From version 0.12, the only valid positional argument will be `data`, and passing other arguments without an explicit keyword will result in an error or misinterpretation.\n",
            "  FutureWarning\n"
          ]
        },
        {
          "data": {
            "image/png": "[encoded data removed]",
            "text/plain": [
              "<Figure size 1296x432 with 1 Axes>"
            ]
          },
          "metadata": {},
          "output_type": "display_data"
        }
      ],
      "source": [
        "new_order = ['January', 'February', 'March', 'April', 'May', 'June', 'July', 'August', 'September', 'October', 'November', 'December']\n",
        "\n",
        "sorted_months = df_not_canceled['arrival_date_month'].value_counts().reindex(new_order)\n",
        "\n",
        "x = sorted_months.index\n",
        "y = sorted_months/sorted_months.sum()*100\n",
        "\n",
        "plot(x, y.values, x_label='Months', y_label='Booking (%)', title='Booking Trend (Monthly)', type='bar', figsize=(18,6))"
      ]
    },
    {
      "cell_type": "markdown",
      "metadata": {
        "id": "BfaWuT7_WyNk"
      },
      "source": [
        ""
      ]
    },
    {
      "cell_type": "markdown",
      "metadata": {
        "id": "SP1cnwscW1LG"
      },
      "source": [
        "#### Compare Busy Month for Hotel Between Resort vs City "
      ]
    },
    {
      "cell_type": "code",
      "execution_count": null,
      "metadata": {
        "colab": {
          "base_uri": "https://localhost:8080/",
          "height": 496
        },
        "id": "uNk2kBdK2RKW",
        "outputId": "7e505bde-a331-4087-b2dd-765237644119"
      },
      "outputs": [
        {
          "name": "stderr",
          "output_type": "stream",
          "text": [
            "/usr/local/lib/python3.7/dist-packages/seaborn/_decorators.py:43: FutureWarning: Pass the following variables as keyword args: x, y. From version 0.12, the only valid positional argument will be `data`, and passing other arguments without an explicit keyword will result in an error or misinterpretation.\n",
            "  FutureWarning\n",
            "/usr/local/lib/python3.7/dist-packages/seaborn/_decorators.py:43: FutureWarning: Pass the following variables as keyword args: x, y. From version 0.12, the only valid positional argument will be `data`, and passing other arguments without an explicit keyword will result in an error or misinterpretation.\n",
            "  FutureWarning\n"
          ]
        },
        {
          "data": {
            "image/png": "[encoded data removed]",
            "text/plain": [
              "<Figure size 1296x432 with 1 Axes>"
            ]
          },
          "metadata": {},
          "output_type": "display_data"
        }
      ],
      "source": [
        "## Order of months\n",
        "new_order = ['January', 'February', 'March', 'April', 'May', 'June', 'July', 'August', 'September', 'October', 'November', 'December']\n",
        "\n",
        "\n",
        "## Select only City Hotel\n",
        "sorted_months = df_not_canceled.loc[copy_df.hotel=='City Hotel' ,'arrival_date_month'].value_counts().reindex(new_order)\n",
        "\n",
        "x1 = sorted_months.index\n",
        "y1 = sorted_months/sorted_months.sum()*100\n",
        "\n",
        "\n",
        "\n",
        "## Select only Resort Hotel\n",
        "sorted_months = df_not_canceled.loc[copy_df.hotel=='Resort Hotel' ,'arrival_date_month'].value_counts().reindex(new_order)\n",
        "\n",
        "x2 = sorted_months.index\n",
        "y2 = sorted_months/sorted_months.sum()*100\n",
        "\n",
        "\n",
        "## Draw the line plot\n",
        "\n",
        "fig, ax = plt.subplots(figsize=(18,6))\n",
        "\n",
        "ax.set_xlabel('Months')\n",
        "ax.set_ylabel('Booking (%)')\n",
        "ax.set_title('Booking Trend (Monthly)')\n",
        "\n",
        "\n",
        "sns.lineplot(x1, y1.values, label='City Hotel')\n",
        "sns.lineplot(x1, y2.values, label='Resort Hotel')\n",
        "\n",
        "plt.show()"
      ]
    },
    {
      "cell_type": "markdown",
      "metadata": {
        "id": "b1qB4X9b2RKW"
      },
      "source": [
        "### `5. From which country most guest come? `"
      ]
    },
    {
      "cell_type": "code",
      "execution_count": null,
      "metadata": {
        "colab": {
          "base_uri": "https://localhost:8080/",
          "height": 569
        },
        "id": "QUsjE8jU2RKX",
        "outputId": "09a4ecbe-ef50-4058-ee41-eefa24457663"
      },
      "outputs": [
        {
          "name": "stderr",
          "output_type": "stream",
          "text": [
            "/usr/local/lib/python3.7/dist-packages/seaborn/_decorators.py:43: FutureWarning: Pass the following variables as keyword args: x, y. From version 0.12, the only valid positional argument will be `data`, and passing other arguments without an explicit keyword will result in an error or misinterpretation.\n",
            "  FutureWarning\n"
          ]
        },
        {
          "data": {
            "image/png": "[encoded data removed]",
            "text/plain": [
              "<Figure size 1296x576 with 1 Axes>"
            ]
          },
          "metadata": {},
          "output_type": "display_data"
        }
      ],
      "source": [
        "# Importing Pycountry To Decode Country Code Because in dataset we got country code so we need to convert it into the country name :\n",
        "import pycountry as pc\n",
        "\n",
        "x,y = get_count(df_not_canceled['country'], limit=10)\n",
        "\n",
        "## For each country code select the country name \n",
        "country_name = [pc.countries.get(alpha_3=name).name for name in x]\n",
        "\n",
        "plot(country_name,y, x_label='Countries', y_label='Total Booking (%)', title='Plot Show From Which Country Most Guest Come..', figsize=(18,8))"
      ]
    },
    {
      "cell_type": "markdown",
      "metadata": {
        "id": "cPPZCM382RKY"
      },
      "source": [
        "### `6. How Long People Stay in the hotel?`"
      ]
    },
    {
      "cell_type": "code",
      "execution_count": null,
      "metadata": {
        "colab": {
          "base_uri": "https://localhost:8080/",
          "height": 406
        },
        "id": "p_fg4Qnl2RKb",
        "outputId": "0e963307-8bd4-4897-ce26-754887ed8657"
      },
      "outputs": [
        {
          "name": "stderr",
          "output_type": "stream",
          "text": [
            "/usr/local/lib/python3.7/dist-packages/seaborn/_decorators.py:43: FutureWarning: Pass the following variables as keyword args: x, y. From version 0.12, the only valid positional argument will be `data`, and passing other arguments without an explicit keyword will result in an error or misinterpretation.\n",
            "  FutureWarning\n"
          ]
        },
        {
          "data": {
            "image/png": "[encoded data removed]",
            "text/plain": [
              "<Figure size 720x360 with 1 Axes>"
            ]
          },
          "metadata": {},
          "output_type": "display_data"
        }
      ],
      "source": [
        "total_nights = df_not_canceled['stays_in_weekend_nights']+ df_not_canceled['stays_in_week_nights']\n",
        "x,y = get_count(total_nights, limit=10)\n",
        "\n",
        "plot(x,y, x_label='Number of Nights', y_label='Booking Percentage (%)', title='Night Stay Duration (Top 10)', figsize=(10,5))"
      ]
    },
    {
      "cell_type": "markdown",
      "metadata": {
        "id": "MIS2VbH8ZPVl"
      },
      "source": [
        "#### Compare Hotel wise night stay duration resort vs city "
      ]
    },
    {
      "cell_type": "code",
      "execution_count": null,
      "metadata": {
        "colab": {
          "base_uri": "https://localhost:8080/",
          "height": 513
        },
        "id": "SSTZSdXe2RKf",
        "outputId": "c5c91fb5-ae02-4cc6-cabb-52d0ba3ca0e2"
      },
      "outputs": [
        {
          "name": "stderr",
          "output_type": "stream",
          "text": [
            "/usr/local/lib/python3.7/dist-packages/pandas/core/indexing.py:1667: SettingWithCopyWarning: \n",
            "A value is trying to be set on a copy of a slice from a DataFrame.\n",
            "Try using .loc[row_indexer,col_indexer] = value instead\n",
            "\n",
            "See the caveats in the documentation: https://pandas.pydata.org/pandas-docs/stable/user_guide/indexing.html#returning-a-view-versus-a-copy\n",
            "  self.obj[key] = value\n"
          ]
        },
        {
          "data": {
            "image/png": "[encoded data removed]",
            "text/plain": [
              "<Figure size 864x432 with 1 Axes>"
            ]
          },
          "metadata": {},
          "output_type": "display_data"
        }
      ],
      "source": [
        "df_not_canceled.loc[:,'total_nights'] = df_not_canceled['stays_in_weekend_nights']+ df_not_canceled['stays_in_week_nights']\n",
        "\n",
        "fig, ax = plt.subplots(figsize=(12,6))\n",
        "ax.set_xlabel('No of Nights')\n",
        "ax.set_ylabel('No of Nights')\n",
        "ax.set_title('Hotel wise night stay duration (Top 10)')\n",
        "sns.countplot(x='total_nights', hue='hotel', data=df_not_canceled, order = df_not_canceled.total_nights.value_counts().iloc[:10].index, ax=ax);"
      ]
    },
    {
      "cell_type": "markdown",
      "metadata": {
        "id": "kLgZ-gWL2RKo"
      },
      "source": [
        "### `7.Which is the most booked type of accommodation (Single, Couple, Family)?`"
      ]
    },
    {
      "cell_type": "code",
      "execution_count": null,
      "metadata": {
        "colab": {
          "base_uri": "https://localhost:8080/",
          "height": 500
        },
        "id": "CTu6iunt2RKq",
        "outputId": "119b6be2-ef9f-4571-c2e1-059b31630004"
      },
      "outputs": [
        {
          "name": "stderr",
          "output_type": "stream",
          "text": [
            "/usr/local/lib/python3.7/dist-packages/seaborn/_decorators.py:43: FutureWarning: Pass the following variables as keyword args: x, y. From version 0.12, the only valid positional argument will be `data`, and passing other arguments without an explicit keyword will result in an error or misinterpretation.\n",
            "  FutureWarning\n"
          ]
        },
        {
          "data": {
            "image/png": "[encoded data removed]",
            "text/plain": [
              "<Figure size 720x504 with 1 Axes>"
            ]
          },
          "metadata": {},
          "output_type": "display_data"
        }
      ],
      "source": [
        "## Select single, couple, multiple adults and family\n",
        "single_type   = df_not_canceled[(df_not_canceled.adults==1) & (df_not_canceled.children==0) & (df_not_canceled.babies==0)]\n",
        "couple_type   = df_not_canceled[(df_not_canceled.adults==2) & (df_not_canceled.children==0) & (df_not_canceled.babies==0)]\n",
        "#n_adults = df_not_canceled[(df_not_canceled.adults>2) & (df_not_canceled.children==0) & (df_not_canceled.babies==0)]\n",
        "family_type   = df_not_canceled[df_not_canceled.adults + df_not_canceled.children + df_not_canceled.babies >= 3]\n",
        "\n",
        "\n",
        "## Make the list of Category names, and their total percentage\n",
        "type_of_name = ['Single', 'Couple (No Children)', 'Family / Friends']\n",
        "total_count = [single_type.shape[0],couple_type.shape[0], family_type.shape[0]]\n",
        "count_percent = [x/df_not_canceled.shape[0]*100 for x in total_count]\n",
        "\n",
        "\n",
        "## Draw the curve\n",
        "plot(type_of_name,count_percent,  y_label='Booking (%)', title='Type of Accommodation( Single vs Couple vs Family) ', figsize=(10,7))"
      ]
    },
    {
      "cell_type": "markdown",
      "metadata": {
        "id": "jZbDPnMJHdnY"
      },
      "source": [
        "### `8. How many guests repeated in hotel ?`"
      ]
    },
    {
      "cell_type": "code",
      "execution_count": null,
      "metadata": {
        "colab": {
          "base_uri": "https://localhost:8080/",
          "height": 264
        },
        "id": "xFyb1JwmHZnF",
        "outputId": "7cc6726a-efcc-4545-d399-99eba20546c9"
      },
      "outputs": [
        {
          "data": {
            "image/png": "[encoded data removed]",
            "text/plain": [
              "<Figure size 432x288 with 1 Axes>"
            ]
          },
          "metadata": {},
          "output_type": "display_data"
        }
      ],
      "source": [
        "# we find out how many guest is repeated in hotel and visualize it in pie chart.\n",
        "x,y = get_count(copy_df['is_repeated_guest'])\n",
        "x1 = copy_df['is_repeated_guest'].value_counts()\n",
        "colors = sns.color_palette('husl')[0:2]\n",
        "explode = (0.1 , 0 ) \n",
        "label = ['Guest Not Repeated', 'Guest is Repeated']\n",
        "plt.pie( y, labels = label , colors = colors, explode=explode, shadow=True,  autopct='%.0f%%')\n",
        "plt.title(f\"Pie Chart Show Only {int(y[1])}% Guest is Repeated in Hotel. It means {x1[1]} guest out of {x1[0]} is repeated.\", bbox={'facecolor':'0.8', 'pad':5})\n",
        "plt.show()"
      ]
    },
    {
      "cell_type": "markdown",
      "metadata": {
        "id": "3YsrJcNSc7hS"
      },
      "source": [
        "### `9. Types of Customers ?`"
      ]
    },
    {
      "cell_type": "code",
      "execution_count": null,
      "metadata": {
        "colab": {
          "base_uri": "https://localhost:8080/",
          "height": 406
        },
        "id": "yjgfaF6Rc_JJ",
        "outputId": "3b3166b4-8b5a-49d1-cc45-654fd6fcaf58"
      },
      "outputs": [
        {
          "name": "stderr",
          "output_type": "stream",
          "text": [
            "/usr/local/lib/python3.7/dist-packages/seaborn/_decorators.py:43: FutureWarning: Pass the following variables as keyword args: x, y. From version 0.12, the only valid positional argument will be `data`, and passing other arguments without an explicit keyword will result in an error or misinterpretation.\n",
            "  FutureWarning\n"
          ]
        },
        {
          "data": {
            "image/png": "[encoded data removed]",
            "text/plain": [
              "<Figure size 576x360 with 1 Axes>"
            ]
          },
          "metadata": {},
          "output_type": "display_data"
        }
      ],
      "source": [
        "# we find out Types of Customers i.e Transient vs Contract in hotel and visualize it in pie chart.\n",
        "x,y = get_count(copy_df['customer_type'])\n",
        "plot(x,y, x_label='Types Of Customers', y_label='Value in (%)', title = f'Bar Chart Show Types of customers in Hotel.In Which {x[0]} is {int(y[0])}%, {x[1]} is {int(y[1])}%, {x[2]} is {int(y[2])}%, {x[3]} is {int(y[3])}% ' )"
      ]
    },
    {
      "cell_type": "markdown",
      "metadata": {
        "id": "mhFn830MdLH7"
      },
      "source": [
        "### `10. Meal Plan of Customers ?`"
      ]
    },
    {
      "cell_type": "code",
      "execution_count": null,
      "metadata": {
        "colab": {
          "base_uri": "https://localhost:8080/",
          "height": 406
        },
        "id": "TpX4FUS7dL3p",
        "outputId": "428ff17f-ce49-47c4-e71c-9bb8e643a7de"
      },
      "outputs": [
        {
          "name": "stderr",
          "output_type": "stream",
          "text": [
            "/usr/local/lib/python3.7/dist-packages/seaborn/_decorators.py:43: FutureWarning: Pass the following variables as keyword args: x, y. From version 0.12, the only valid positional argument will be `data`, and passing other arguments without an explicit keyword will result in an error or misinterpretation.\n",
            "  FutureWarning\n"
          ]
        },
        {
          "data": {
            "image/png": "[encoded data removed]",
            "text/plain": [
              "<Figure size 576x360 with 1 Axes>"
            ]
          },
          "metadata": {},
          "output_type": "display_data"
        }
      ],
      "source": [
        "x,y = get_count(df_not_canceled['meal'])\n",
        "plot(x,y, x_label='Types Of Meal Plan', y_label='Types of Meal Plan in (%)',title='Meal Plan of Customers.(BB=Bed & Breakfast,  HB=Half Board, S  FB=Full Board)') "
      ]
    },
    {
      "cell_type": "markdown",
      "metadata": {
        "id": "t2QglXUfcdVr"
      },
      "source": [
        "### `11. Which agent makes highest no. of bookings ?`"
      ]
    },
    {
      "cell_type": "code",
      "execution_count": null,
      "metadata": {
        "colab": {
          "base_uri": "https://localhost:8080/",
          "height": 531
        },
        "id": "JXWPeeVhlcki",
        "outputId": "2c176983-15f8-4f19-9102-ea7a6c1f3378"
      },
      "outputs": [
        {
          "data": {
            "text/plain": [
              "Text(0.5, 1.0, 'Highest Bookings Made by the agent')"
            ]
          },
          "execution_count": 28,
          "metadata": {},
          "output_type": "execute_result"
        },
        {
          "data": {
            "image/png": "[encoded data removed]",
            "text/plain": [
              "<Figure size 1296x576 with 1 Axes>"
            ]
          },
          "metadata": {},
          "output_type": "display_data"
        }
      ],
      "source": [
        "# Return highest bookings made by agents\n",
        "top_bookings= hotel_data.groupby(['agent'])['agent'].agg({'count'}).reset_index().rename(columns={'count': \"Most_Bookings\" }).sort_values(by='Most_Bookings',ascending=False)\n",
        "top_bookings.drop(top_bookings[top_bookings['agent']==0].index,inplace=True) \n",
        "\n",
        "# capture top 10 bookings made by agent\n",
        "top_highest_bookings_by_agents=top_bookings[:10]\n",
        "plt.figure(figsize=(18,8))\n",
        "sns.barplot(x=top_highest_bookings_by_agents['agent'],y=top_highest_bookings_by_agents['Most_Bookings'],order=top_highest_bookings_by_agents['agent'])\n",
        "plt.xlabel('Agent No |')\n",
        "plt.ylabel('Total Number of Bookings ')\n",
        "plt.title(\"Highest Bookings Made by the agent\")"
      ]
    },
    {
      "cell_type": "markdown",
      "metadata": {
        "id": "OcCN6Z4KTiUU"
      },
      "source": [
        "### `12. Which is the most preferred room type by the customers ?`"
      ]
    },
    {
      "cell_type": "code",
      "execution_count": null,
      "metadata": {
        "colab": {
          "base_uri": "https://localhost:8080/",
          "height": 406
        },
        "id": "DdfdVg9RTsf_",
        "outputId": "8241df18-6340-4b74-82cb-0fbe64f30f99"
      },
      "outputs": [
        {
          "name": "stderr",
          "output_type": "stream",
          "text": [
            "/usr/local/lib/python3.7/dist-packages/seaborn/_decorators.py:43: FutureWarning: Pass the following variables as keyword args: x, y. From version 0.12, the only valid positional argument will be `data`, and passing other arguments without an explicit keyword will result in an error or misinterpretation.\n",
            "  FutureWarning\n"
          ]
        },
        {
          "data": {
            "image/png": "[encoded data removed]",
            "text/plain": [
              "<Figure size 576x360 with 1 Axes>"
            ]
          },
          "metadata": {},
          "output_type": "display_data"
        }
      ],
      "source": [
        "x,y = get_count(df_not_canceled['assigned_room_type']) \n",
        "plot(x,y, x_label='Room Type', y_label='Highly Preferred Room Type in (%)', title='Chart Shows Most Preferred Room Type By The Customers', type = 'bar')  "
      ]
    },
    {
      "cell_type": "markdown",
      "metadata": {
        "id": "ZEFOceLBkKIU"
      },
      "source": [
        "### `13. Which Hotel type has the highest ADR ?`"
      ]
    },
    {
      "cell_type": "code",
      "execution_count": null,
      "metadata": {
        "colab": {
          "base_uri": "https://localhost:8080/",
          "height": 406
        },
        "id": "_tJN5eISYCm3",
        "outputId": "a0369232-fc62-48f1-8d57-1574fdce0ef8"
      },
      "outputs": [
        {
          "output_type": "stream",
          "name": "stderr",
          "text": [
            "/usr/local/lib/python3.7/dist-packages/seaborn/_decorators.py:43: FutureWarning: Pass the following variables as keyword args: x, y. From version 0.12, the only valid positional argument will be `data`, and passing other arguments without an explicit keyword will result in an error or misinterpretation.\n",
            "  FutureWarning\n"
          ]
        },
        {
          "output_type": "display_data",
          "data": {
            "text/plain": [
              "<Figure size 576x360 with 1 Axes>"
            ],
            "image/png": "[encoded data removed]"
          },
          "metadata": {}
        }
      ],
      "source": [
        "hotel_by_group=df_not_canceled.groupby('hotel')\n",
        "#Group By Both Hotel Adr\n",
        "highest_adr=hotel_by_group['adr'].mean().reset_index()\n",
        "x=highest_adr['hotel']\n",
        "y=highest_adr['adr']\n",
        "plot(x,y, x_label='Hotel Type', y_label='ADR', title='Avg ADR of Both Hotel type', type = 'bar')  "
      ]
    },
    {
      "cell_type": "markdown",
      "metadata": {
        "id": "KZlnlg_F2RKs"
      },
      "source": [
        "<hr>"
      ]
    }
  ],
  "metadata": {
    "colab": {
      "collapsed_sections": [],
      "name": "Hotel Booking Analysis - Capston Project Almabetter.ipynb",
      "provenance": [],
      "include_colab_link": true
    },
    "kernelspec": {
      "display_name": "Python 3",
      "language": "python",
      "name": "python3"
    },
    "language_info": {
      "codemirror_mode": {
        "name": "ipython",
        "version": 3
      },
      "file_extension": ".py",
      "mimetype": "text/x-python",
      "name": "python",
      "nbconvert_exporter": "python",
      "pygments_lexer": "ipython3",
      "version": "3.7.4"
    }
  },
  "nbformat": 4,
  "nbformat_minor": 0
}